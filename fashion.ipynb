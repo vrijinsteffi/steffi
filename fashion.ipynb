{
 "cells": [
  {
   "cell_type": "code",
   "execution_count": null,
   "id": "2aa97af0",
   "metadata": {
    "vscode": {
     "languageId": "plaintext"
    }
   },
   "outputs": [],
   "source": [
    "!pip install numpy pandas matplotlib scikit-learn\n",
    "import tensorflow as tf\n",
    "from tensorflow.keras.datasets import fashion_mnist \n",
    "from  tensorflow.keras.models import Sequential\n",
    "from  tensorflow.keras.layers import Dense, Flatten\n",
    "from  tensorflow.keras.utils import to_categorical\n",
    "import matplotlib.pyplot as plt\n",
    "import numpy as np\n",
    "(x_train,y_train),(x_test, y_test)=fashion_mnist.load_data()\n",
    "x_train=x_train / 255.0\n",
    "x_test = x_test / 255.0\n",
    "\n",
    "y_train = to_categorical(y_train,num_classes=10)\n",
    "y_test=to_categorical(y_test,num_classes=10)\n",
    "class_names = ['T-shirt/top', 'Trouser', 'Pullover', 'Dress', 'Coat',\n",
    "               'Sandal', 'Shirt', 'Sneaker', 'Bag', 'Ankle boot']\n",
    "\n",
    "plt.figure(figsize=(10,5))\n",
    "for i in range(10):\n",
    "  plt.subplot(2,5,i+1)\n",
    "  plt.imshow(x_train[i],cmap='gray')\n",
    "  plt.title(f\"label:{class_names[np.argmax(y_train[i])]}\")\n",
    "  plt.axis(\"off\")\n",
    "plt.show()\n",
    "model = Sequential([\n",
    "    Flatten (input_shape=(28,28)),\n",
    "    Dense(128, activation= 'relu'),\n",
    "    Dense(64, activation='relu'),\n",
    "    Dense(10, activation='softmax')\n",
    "])\n",
    "model.compile(optimizer='adam',loss='categorical_crossentropy', metrics=['accuracy'])\n",
    "history = model.fit(x_train, y_train, epochs=10, validation_data=(x_test, y_test))\n",
    "test_loss, test_acc = model.evaluate(x_test,y_test)\n",
    "print(f\"test accuracy: {test_acc:.4f}\")\n",
    "predictions = model.predict(x_test)\n",
    "for i in range(5):\n",
    "  plt.imshow(x_test[i],cmap='gray')\n",
    "  plt.title(f\"label:{class_names[np.argmax(y_train[i])]}\")\n",
    "  plt.axis('off')\n",
    "plt.show()"
   ]
  }
 ],
 "metadata": {
  "language_info": {
   "name": "python"
  }
 },
 "nbformat": 4,
 "nbformat_minor": 5
}
