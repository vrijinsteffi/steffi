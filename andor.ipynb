{
 "cells": [
  {
   "cell_type": "code",
   "execution_count": null,
   "id": "e6a3f59f",
   "metadata": {
    "vscode": {
     "languageId": "plaintext"
    }
   },
   "outputs": [],
   "source": [
    "import numpy as np\n",
    "x=np.array([0,0],[0,1],[1,0],[1,1])\n",
    "y=np.array([0,0,1])\n",
    "\n",
    "weightr=np.zeros(2)\n",
    "blas=0\n",
    "lr=0.1\n",
    "epochs=10\n",
    "def step(x)\n",
    "return 1 if x>=0 else 0\n",
    "foe epoch in range(epochs);\n",
    "for i in range (len(x));\n",
    "z=np.dot(x[i],weihts)+bias\n",
    "pred = step(z)\n",
    "error=y[i]-pred\n",
    "weights +=lr*error*x[i]\n",
    "bias +=lr*error\n",
    "print(\"weights\",weihts)\n",
    "print(\"bias\",bias)\n",
    "\n",
    "for i in range (len(x));\n",
    "z=np.dot(x[i],weights)+bias\n",
    "pred=step(z)\n",
    "print(f\"input:(x[i])=> output: (pred)\")"
   ]
  }
 ],
 "metadata": {
  "language_info": {
   "name": "python"
  }
 },
 "nbformat": 4,
 "nbformat_minor": 5
}
